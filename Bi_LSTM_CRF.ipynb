{
 "cells": [
  {
   "cell_type": "code",
   "execution_count": 1,
   "metadata": {},
   "outputs": [],
   "source": [
    "import os\n",
    "import numpy as np\n",
    "import torch\n",
    "from torch.utils.data import DataLoader\n",
    "import torch.optim as optim\n",
    "\n",
    "from data import read_corpus, build_dict, TAG_MAP, NER_DataSet, condtraints\n",
    "from model import BiLSTM_CRF\n",
    "from trainer import train, evaluate, load_model\n",
    "\n",
    "\n",
    "train_corpus_path = './datasets/train_data'\n",
    "test_corpus_path = './datasets/test_data'"
   ]
  },
  {
   "cell_type": "markdown",
   "metadata": {},
   "source": [
    "### 准备数据"
   ]
  },
  {
   "cell_type": "code",
   "execution_count": 2,
   "metadata": {},
   "outputs": [],
   "source": [
    "corpus = read_corpus(train_corpus_path)\n",
    "dct = build_dict(corpus)\n",
    "\n",
    "np.random.shuffle(corpus)\n",
    "train_ds = NER_DataSet(corpus[:-5000], dct)\n",
    "val_ds = NER_DataSet(corpus[-5000:], dct)\n",
    "\n",
    "train_dl = DataLoader(train_ds, batch_size=32, shuffle=True, num_workers=0)\n",
    "val_dl = DataLoader(val_ds, batch_size=32, shuffle=False, num_workers=0)"
   ]
  },
  {
   "cell_type": "markdown",
   "metadata": {},
   "source": [
    "### 创建模型\n"
   ]
  },
  {
   "cell_type": "code",
   "execution_count": 3,
   "metadata": {},
   "outputs": [],
   "source": [
    "device = torch.device('cuda' if torch.cuda.is_available() else 'cpu')\n",
    "\n",
    "class Config:\n",
    "    name = \"hidden_256_embed_150\"\n",
    "    hidden_size = 256\n",
    "    num_tags = len(TAG_MAP)\n",
    "    embed_dim = 150\n",
    "    embed_size = len(dct)\n",
    "    dropout = 0.5\n",
    "    device = device\n",
    "    condtraints = condtraints\n",
    "\n",
    "model = BiLSTM_CRF(Config())\n",
    "model = model.to(device)\n",
    "lr = 0.001\n",
    "optimizer = optim.Adam(model.parameters(), lr=lr)"
   ]
  },
  {
   "cell_type": "markdown",
   "metadata": {},
   "source": [
    "### 训练模型"
   ]
  },
  {
   "cell_type": "code",
   "execution_count": 7,
   "metadata": {},
   "outputs": [],
   "source": [
    "from trainer import train, evaluate"
   ]
  },
  {
   "cell_type": "code",
   "execution_count": 19,
   "metadata": {},
   "outputs": [
    {
     "name": "stderr",
     "output_type": "stream",
     "text": [
      "2019-06-01 20:25:27,658 - epoch 1 - loss: 6.30 acc: 0.72 - val_acc: 0.69\n"
     ]
    },
    {
     "name": "stderr",
     "output_type": "stream",
     "text": [
      "2019-06-01 20:28:05,706 - epoch 2 - loss: 2.04 acc: 0.82 - val_acc: 0.77\n"
     ]
    },
    {
     "name": "stderr",
     "output_type": "stream",
     "text": [
      "2019-06-01 20:30:53,383 - epoch 3 - loss: 1.30 acc: 0.88 - val_acc: 0.82\n"
     ]
    },
    {
     "name": "stderr",
     "output_type": "stream",
     "text": [
      "2019-06-01 20:33:30,144 - epoch 4 - loss: 0.95 acc: 0.91 - val_acc: 0.84\n"
     ]
    },
    {
     "name": "stderr",
     "output_type": "stream",
     "text": [
      "2019-06-01 20:36:18,832 - epoch 5 - loss: 0.74 acc: 0.92 - val_acc: 0.84\n"
     ]
    },
    {
     "name": "stderr",
     "output_type": "stream",
     "text": [
      "2019-06-01 20:38:55,712 - epoch 6 - loss: 0.60 acc: 0.94 - val_acc: 0.85\n"
     ]
    },
    {
     "name": "stderr",
     "output_type": "stream",
     "text": [
      "2019-06-01 20:41:42,535 - epoch 7 - loss: 0.50 acc: 0.95 - val_acc: 0.85\n"
     ]
    },
    {
     "name": "stderr",
     "output_type": "stream",
     "text": [
      "2019-06-01 20:44:16,465 - epoch 8 - loss: 0.42 acc: 0.96 - val_acc: 0.86\n"
     ]
    },
    {
     "name": "stderr",
     "output_type": "stream",
     "text": [
      "2019-06-01 20:47:03,501 - epoch 9 - loss: 0.37 acc: 0.97 - val_acc: 0.86\n"
     ]
    },
    {
     "name": "stderr",
     "output_type": "stream",
     "text": [
      "2019-06-01 20:49:37,020 - epoch 10 - loss: 0.34 acc: 0.97 - val_acc: 0.86\n",
      "2019-06-01 20:49:37,023 - early stop\n"
     ]
    }
   ],
   "source": [
    "history = train(model, optimizer, train_dl, val_dl, device=device, epochs=20, early_stop=True, save_every_n_epochs=3)"
   ]
  },
  {
   "cell_type": "markdown",
   "metadata": {},
   "source": [
    "### 评估模型"
   ]
  },
  {
   "cell_type": "code",
   "execution_count": 6,
   "metadata": {},
   "outputs": [],
   "source": [
    "test_corpus = read_corpus(test_corpus_path)\n",
    "\n",
    "test_ds = NER_DataSet(test_corpus, dct)\n",
    "test_dl = DataLoader(test_ds, batch_size=64, shuffle=True)"
   ]
  },
  {
   "cell_type": "code",
   "execution_count": 7,
   "metadata": {},
   "outputs": [],
   "source": [
    "metric = evaluate(model, test_dl, device=device)"
   ]
  },
  {
   "cell_type": "code",
   "execution_count": 8,
   "metadata": {},
   "outputs": [
    {
     "name": "stdout",
     "output_type": "stream",
     "text": [
      "            PER         LOC         ORG         \n",
      "precision   0.75        0.85        0.78        \n",
      "recall      0.83        0.90        0.82        \n",
      "f1          0.79        0.87        0.80        \n",
      "------------------------------------------------\n",
      "precision   0.80\n",
      "recall      0.86\n",
      "f1          0.83\n"
     ]
    }
   ],
   "source": [
    "print(metric.report())"
   ]
  },
  {
   "cell_type": "markdown",
   "metadata": {},
   "source": [
    "### 预测"
   ]
  },
  {
   "cell_type": "code",
   "execution_count": 5,
   "metadata": {},
   "outputs": [],
   "source": [
    "from predict import predict_sentence_tags, get_entity\n",
    "\n",
    "sentence = '在周恩来总理的领导下，由当时中共中央主管科学工作的陈毅、国务院副总理兼国家计委主任李富春具体领导，在北京召开了包括中央各部门、各有关高等学校和中国科学院的科学技术工作人员大会，动员制定十二年科学发展远景规划。来自全国23个单位的787名科技人员提出了发展远景规划的初步内容，体现出全国“重点发展，迎头赶上”的方针。在规划制定过程中，深切感到某些新技术是现代科学技术发展的关键。为了更快地发展这些新学科，使其在短时间内接近国际水平，把计算技术、自动化、电子学和半导体这四个学科的研究和发展列为“四大紧急措施”，经周恩来总理同意，确定由中国科学院负责采取紧急措施，尽快筹建相应的四个学科研究机构。'\n",
    "\n",
    "tags = predict_sentence_tags(model, sentence, dct, device)"
   ]
  },
  {
   "cell_type": "code",
   "execution_count": 6,
   "metadata": {},
   "outputs": [
    {
     "data": {
      "text/plain": [
       "{'PER': {'周恩来', '李富春', '陈毅'},\n",
       " 'ORG': {'中共中央', '中国科学院', '国务院', '国家计委'},\n",
       " 'LOC': {'北京'}}"
      ]
     },
     "execution_count": 6,
     "metadata": {},
     "output_type": "execute_result"
    }
   ],
   "source": [
    "get_entity(sentence, tags)"
   ]
  },
  {
   "cell_type": "markdown",
   "metadata": {},
   "source": [
    "### 加载模型"
   ]
  },
  {
   "cell_type": "code",
   "execution_count": 4,
   "metadata": {},
   "outputs": [],
   "source": [
    "from trainer import load_model\n",
    "\n",
    "load_model(model, 'model_hidden_256_embed_150_epoch_8_acc_0.89.tar')"
   ]
  },
  {
   "cell_type": "code",
   "execution_count": 9,
   "metadata": {},
   "outputs": [
    {
     "name": "stdout",
     "output_type": "stream",
     "text": [
      "            PER         LOC         ORG         \n",
      "precision   0.75        0.85        0.78        \n",
      "recall      0.83        0.89        0.82        \n",
      "f1          0.79        0.87        0.80        \n",
      "------------------------------------------------\n",
      "precision   0.80\n",
      "recall      0.86\n",
      "f1          0.83\n"
     ]
    }
   ],
   "source": [
    "metric = evaluate(model, test_dl, device=device)\n",
    "print(metric.report())"
   ]
  }
 ],
 "metadata": {
  "kernelspec": {
   "display_name": "Python 3",
   "language": "python",
   "name": "python3"
  },
  "language_info": {
   "codemirror_mode": {
    "name": "ipython",
    "version": 3
   },
   "file_extension": ".py",
   "mimetype": "text/x-python",
   "name": "python",
   "nbconvert_exporter": "python",
   "pygments_lexer": "ipython3",
   "version": "3.7.3"
  }
 },
 "nbformat": 4,
 "nbformat_minor": 2
}
